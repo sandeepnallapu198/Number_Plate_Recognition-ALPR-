{
 "cells": [
  {
   "cell_type": "code",
   "execution_count": 1,
   "id": "c3bde523",
   "metadata": {},
   "outputs": [],
   "source": [
    "import cv2\n",
    "import numpy "
   ]
  },
  {
   "cell_type": "code",
   "execution_count": 5,
   "id": "e7f7d953",
   "metadata": {},
   "outputs": [],
   "source": [
    "plate_cascade=cv2.CascadeClassifier(\"C:\\\\AI(ml&dl)\\\\haarcascade_russian_plate_number.xml\")\n",
    "\n",
    "frameWidth=640\n",
    "frameHeight=480\n",
    "\n",
    "cap=cv2.VideoCapture(0)\n",
    "cap.set(3,frameWidth)\n",
    "cap.set(4,frameHeight)\n",
    "cap.set(10,150)\n",
    "\n",
    "minArea=500\n",
    "\n",
    "while True:\n",
    "    _,img=cap.read()\n",
    "    gray=cv2.cvtColor(img,cv2.COLOR_BGR2GRAY)\n",
    "    numberPlates=plate_cascade.detectMultiScale(gray,1.1,4)\n",
    "    \n",
    "    for (x,y,w,h) in numberPlates:\n",
    "        area=w*h\n",
    "        if area>minArea:\n",
    "            cv2.rectangle(img,(x,y),(x+w,y+h),(255,0,0),2)\n",
    "            cv2.putText(img,'numberPlate',(x,y-5),cv2.FONT_HERSHEY_COMPLEX,1,(255,0,255),2)\n",
    "            imgRoi=img[y:y+h,x:x+w]\n",
    "            cv2.imshow('ROI',imgRoi)\n",
    "    cv2.imshow('result',img)\n",
    "    cv2.imwrite('result.jpg',img)\n",
    "    if cv2.waitKey(1) &0xFF==ord('s'):\n",
    "        break"
   ]
  },
  {
   "cell_type": "code",
   "execution_count": null,
   "id": "257f9b90",
   "metadata": {},
   "outputs": [],
   "source": []
  }
 ],
 "metadata": {
  "kernelspec": {
   "display_name": "Python 3 (ipykernel)",
   "language": "python",
   "name": "python3"
  },
  "language_info": {
   "codemirror_mode": {
    "name": "ipython",
    "version": 3
   },
   "file_extension": ".py",
   "mimetype": "text/x-python",
   "name": "python",
   "nbconvert_exporter": "python",
   "pygments_lexer": "ipython3",
   "version": "3.9.13"
  }
 },
 "nbformat": 4,
 "nbformat_minor": 5
}
